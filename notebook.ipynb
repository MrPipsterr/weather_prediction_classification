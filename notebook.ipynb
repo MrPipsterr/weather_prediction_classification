{
  "cells": [
    {
      "cell_type": "code",
      "execution_count": null,
      "metadata": {
        "colab": {
          "base_uri": "https://localhost:8080/",
          "height": 223
        },
        "id": "5dWFhENrZMrt",
        "outputId": "c90f85dc-1d6a-4c49-bed4-860c9a6f095d"
      },
      "outputs": [
        {
          "output_type": "stream",
          "name": "stdout",
          "text": [
            "Drive already mounted at /content/drive; to attempt to forcibly remount, call drive.mount(\"/content/drive\", force_remount=True).\n"
          ]
        },
        {
          "output_type": "execute_result",
          "data": {
            "text/plain": [
              "   Temperature  Humidity  Wind Speed  Precipitation (%)    Cloud Cover  \\\n",
              "0         14.0        73         9.5               82.0  partly cloudy   \n",
              "1         39.0        96         8.5               71.0  partly cloudy   \n",
              "2         30.0        64         7.0               16.0          clear   \n",
              "3         38.0        83         1.5               82.0          clear   \n",
              "4         27.0        74        17.0               66.0       overcast   \n",
              "\n",
              "   Atmospheric Pressure  UV Index  Season  Visibility (km)  Location  \\\n",
              "0               1010.82         2  Winter              3.5    inland   \n",
              "1               1011.43         7  Spring             10.0    inland   \n",
              "2               1018.72         5  Spring              5.5  mountain   \n",
              "3               1026.25         7  Spring              1.0   coastal   \n",
              "4                990.67         1  Winter              2.5  mountain   \n",
              "\n",
              "  Weather Type  \n",
              "0        Rainy  \n",
              "1       Cloudy  \n",
              "2        Sunny  \n",
              "3        Sunny  \n",
              "4        Rainy  "
            ],
            "text/html": [
              "\n",
              "  <div id=\"df-3094fb8a-3c62-475c-87ca-c5b68c688ed2\" class=\"colab-df-container\">\n",
              "    <div>\n",
              "<style scoped>\n",
              "    .dataframe tbody tr th:only-of-type {\n",
              "        vertical-align: middle;\n",
              "    }\n",
              "\n",
              "    .dataframe tbody tr th {\n",
              "        vertical-align: top;\n",
              "    }\n",
              "\n",
              "    .dataframe thead th {\n",
              "        text-align: right;\n",
              "    }\n",
              "</style>\n",
              "<table border=\"1\" class=\"dataframe\">\n",
              "  <thead>\n",
              "    <tr style=\"text-align: right;\">\n",
              "      <th></th>\n",
              "      <th>Temperature</th>\n",
              "      <th>Humidity</th>\n",
              "      <th>Wind Speed</th>\n",
              "      <th>Precipitation (%)</th>\n",
              "      <th>Cloud Cover</th>\n",
              "      <th>Atmospheric Pressure</th>\n",
              "      <th>UV Index</th>\n",
              "      <th>Season</th>\n",
              "      <th>Visibility (km)</th>\n",
              "      <th>Location</th>\n",
              "      <th>Weather Type</th>\n",
              "    </tr>\n",
              "  </thead>\n",
              "  <tbody>\n",
              "    <tr>\n",
              "      <th>0</th>\n",
              "      <td>14.0</td>\n",
              "      <td>73</td>\n",
              "      <td>9.5</td>\n",
              "      <td>82.0</td>\n",
              "      <td>partly cloudy</td>\n",
              "      <td>1010.82</td>\n",
              "      <td>2</td>\n",
              "      <td>Winter</td>\n",
              "      <td>3.5</td>\n",
              "      <td>inland</td>\n",
              "      <td>Rainy</td>\n",
              "    </tr>\n",
              "    <tr>\n",
              "      <th>1</th>\n",
              "      <td>39.0</td>\n",
              "      <td>96</td>\n",
              "      <td>8.5</td>\n",
              "      <td>71.0</td>\n",
              "      <td>partly cloudy</td>\n",
              "      <td>1011.43</td>\n",
              "      <td>7</td>\n",
              "      <td>Spring</td>\n",
              "      <td>10.0</td>\n",
              "      <td>inland</td>\n",
              "      <td>Cloudy</td>\n",
              "    </tr>\n",
              "    <tr>\n",
              "      <th>2</th>\n",
              "      <td>30.0</td>\n",
              "      <td>64</td>\n",
              "      <td>7.0</td>\n",
              "      <td>16.0</td>\n",
              "      <td>clear</td>\n",
              "      <td>1018.72</td>\n",
              "      <td>5</td>\n",
              "      <td>Spring</td>\n",
              "      <td>5.5</td>\n",
              "      <td>mountain</td>\n",
              "      <td>Sunny</td>\n",
              "    </tr>\n",
              "    <tr>\n",
              "      <th>3</th>\n",
              "      <td>38.0</td>\n",
              "      <td>83</td>\n",
              "      <td>1.5</td>\n",
              "      <td>82.0</td>\n",
              "      <td>clear</td>\n",
              "      <td>1026.25</td>\n",
              "      <td>7</td>\n",
              "      <td>Spring</td>\n",
              "      <td>1.0</td>\n",
              "      <td>coastal</td>\n",
              "      <td>Sunny</td>\n",
              "    </tr>\n",
              "    <tr>\n",
              "      <th>4</th>\n",
              "      <td>27.0</td>\n",
              "      <td>74</td>\n",
              "      <td>17.0</td>\n",
              "      <td>66.0</td>\n",
              "      <td>overcast</td>\n",
              "      <td>990.67</td>\n",
              "      <td>1</td>\n",
              "      <td>Winter</td>\n",
              "      <td>2.5</td>\n",
              "      <td>mountain</td>\n",
              "      <td>Rainy</td>\n",
              "    </tr>\n",
              "  </tbody>\n",
              "</table>\n",
              "</div>\n",
              "    <div class=\"colab-df-buttons\">\n",
              "\n",
              "  <div class=\"colab-df-container\">\n",
              "    <button class=\"colab-df-convert\" onclick=\"convertToInteractive('df-3094fb8a-3c62-475c-87ca-c5b68c688ed2')\"\n",
              "            title=\"Convert this dataframe to an interactive table.\"\n",
              "            style=\"display:none;\">\n",
              "\n",
              "  <svg xmlns=\"http://www.w3.org/2000/svg\" height=\"24px\" viewBox=\"0 -960 960 960\">\n",
              "    <path d=\"M120-120v-720h720v720H120Zm60-500h600v-160H180v160Zm220 220h160v-160H400v160Zm0 220h160v-160H400v160ZM180-400h160v-160H180v160Zm440 0h160v-160H620v160ZM180-180h160v-160H180v160Zm440 0h160v-160H620v160Z\"/>\n",
              "  </svg>\n",
              "    </button>\n",
              "\n",
              "  <style>\n",
              "    .colab-df-container {\n",
              "      display:flex;\n",
              "      gap: 12px;\n",
              "    }\n",
              "\n",
              "    .colab-df-convert {\n",
              "      background-color: #E8F0FE;\n",
              "      border: none;\n",
              "      border-radius: 50%;\n",
              "      cursor: pointer;\n",
              "      display: none;\n",
              "      fill: #1967D2;\n",
              "      height: 32px;\n",
              "      padding: 0 0 0 0;\n",
              "      width: 32px;\n",
              "    }\n",
              "\n",
              "    .colab-df-convert:hover {\n",
              "      background-color: #E2EBFA;\n",
              "      box-shadow: 0px 1px 2px rgba(60, 64, 67, 0.3), 0px 1px 3px 1px rgba(60, 64, 67, 0.15);\n",
              "      fill: #174EA6;\n",
              "    }\n",
              "\n",
              "    .colab-df-buttons div {\n",
              "      margin-bottom: 4px;\n",
              "    }\n",
              "\n",
              "    [theme=dark] .colab-df-convert {\n",
              "      background-color: #3B4455;\n",
              "      fill: #D2E3FC;\n",
              "    }\n",
              "\n",
              "    [theme=dark] .colab-df-convert:hover {\n",
              "      background-color: #434B5C;\n",
              "      box-shadow: 0px 1px 3px 1px rgba(0, 0, 0, 0.15);\n",
              "      filter: drop-shadow(0px 1px 2px rgba(0, 0, 0, 0.3));\n",
              "      fill: #FFFFFF;\n",
              "    }\n",
              "  </style>\n",
              "\n",
              "    <script>\n",
              "      const buttonEl =\n",
              "        document.querySelector('#df-3094fb8a-3c62-475c-87ca-c5b68c688ed2 button.colab-df-convert');\n",
              "      buttonEl.style.display =\n",
              "        google.colab.kernel.accessAllowed ? 'block' : 'none';\n",
              "\n",
              "      async function convertToInteractive(key) {\n",
              "        const element = document.querySelector('#df-3094fb8a-3c62-475c-87ca-c5b68c688ed2');\n",
              "        const dataTable =\n",
              "          await google.colab.kernel.invokeFunction('convertToInteractive',\n",
              "                                                    [key], {});\n",
              "        if (!dataTable) return;\n",
              "\n",
              "        const docLinkHtml = 'Like what you see? Visit the ' +\n",
              "          '<a target=\"_blank\" href=https://colab.research.google.com/notebooks/data_table.ipynb>data table notebook</a>'\n",
              "          + ' to learn more about interactive tables.';\n",
              "        element.innerHTML = '';\n",
              "        dataTable['output_type'] = 'display_data';\n",
              "        await google.colab.output.renderOutput(dataTable, element);\n",
              "        const docLink = document.createElement('div');\n",
              "        docLink.innerHTML = docLinkHtml;\n",
              "        element.appendChild(docLink);\n",
              "      }\n",
              "    </script>\n",
              "  </div>\n",
              "\n",
              "\n",
              "<div id=\"df-5d7cfecc-fceb-48d6-8fc0-0ea6477e0683\">\n",
              "  <button class=\"colab-df-quickchart\" onclick=\"quickchart('df-5d7cfecc-fceb-48d6-8fc0-0ea6477e0683')\"\n",
              "            title=\"Suggest charts\"\n",
              "            style=\"display:none;\">\n",
              "\n",
              "<svg xmlns=\"http://www.w3.org/2000/svg\" height=\"24px\"viewBox=\"0 0 24 24\"\n",
              "     width=\"24px\">\n",
              "    <g>\n",
              "        <path d=\"M19 3H5c-1.1 0-2 .9-2 2v14c0 1.1.9 2 2 2h14c1.1 0 2-.9 2-2V5c0-1.1-.9-2-2-2zM9 17H7v-7h2v7zm4 0h-2V7h2v10zm4 0h-2v-4h2v4z\"/>\n",
              "    </g>\n",
              "</svg>\n",
              "  </button>\n",
              "\n",
              "<style>\n",
              "  .colab-df-quickchart {\n",
              "      --bg-color: #E8F0FE;\n",
              "      --fill-color: #1967D2;\n",
              "      --hover-bg-color: #E2EBFA;\n",
              "      --hover-fill-color: #174EA6;\n",
              "      --disabled-fill-color: #AAA;\n",
              "      --disabled-bg-color: #DDD;\n",
              "  }\n",
              "\n",
              "  [theme=dark] .colab-df-quickchart {\n",
              "      --bg-color: #3B4455;\n",
              "      --fill-color: #D2E3FC;\n",
              "      --hover-bg-color: #434B5C;\n",
              "      --hover-fill-color: #FFFFFF;\n",
              "      --disabled-bg-color: #3B4455;\n",
              "      --disabled-fill-color: #666;\n",
              "  }\n",
              "\n",
              "  .colab-df-quickchart {\n",
              "    background-color: var(--bg-color);\n",
              "    border: none;\n",
              "    border-radius: 50%;\n",
              "    cursor: pointer;\n",
              "    display: none;\n",
              "    fill: var(--fill-color);\n",
              "    height: 32px;\n",
              "    padding: 0;\n",
              "    width: 32px;\n",
              "  }\n",
              "\n",
              "  .colab-df-quickchart:hover {\n",
              "    background-color: var(--hover-bg-color);\n",
              "    box-shadow: 0 1px 2px rgba(60, 64, 67, 0.3), 0 1px 3px 1px rgba(60, 64, 67, 0.15);\n",
              "    fill: var(--button-hover-fill-color);\n",
              "  }\n",
              "\n",
              "  .colab-df-quickchart-complete:disabled,\n",
              "  .colab-df-quickchart-complete:disabled:hover {\n",
              "    background-color: var(--disabled-bg-color);\n",
              "    fill: var(--disabled-fill-color);\n",
              "    box-shadow: none;\n",
              "  }\n",
              "\n",
              "  .colab-df-spinner {\n",
              "    border: 2px solid var(--fill-color);\n",
              "    border-color: transparent;\n",
              "    border-bottom-color: var(--fill-color);\n",
              "    animation:\n",
              "      spin 1s steps(1) infinite;\n",
              "  }\n",
              "\n",
              "  @keyframes spin {\n",
              "    0% {\n",
              "      border-color: transparent;\n",
              "      border-bottom-color: var(--fill-color);\n",
              "      border-left-color: var(--fill-color);\n",
              "    }\n",
              "    20% {\n",
              "      border-color: transparent;\n",
              "      border-left-color: var(--fill-color);\n",
              "      border-top-color: var(--fill-color);\n",
              "    }\n",
              "    30% {\n",
              "      border-color: transparent;\n",
              "      border-left-color: var(--fill-color);\n",
              "      border-top-color: var(--fill-color);\n",
              "      border-right-color: var(--fill-color);\n",
              "    }\n",
              "    40% {\n",
              "      border-color: transparent;\n",
              "      border-right-color: var(--fill-color);\n",
              "      border-top-color: var(--fill-color);\n",
              "    }\n",
              "    60% {\n",
              "      border-color: transparent;\n",
              "      border-right-color: var(--fill-color);\n",
              "    }\n",
              "    80% {\n",
              "      border-color: transparent;\n",
              "      border-right-color: var(--fill-color);\n",
              "      border-bottom-color: var(--fill-color);\n",
              "    }\n",
              "    90% {\n",
              "      border-color: transparent;\n",
              "      border-bottom-color: var(--fill-color);\n",
              "    }\n",
              "  }\n",
              "</style>\n",
              "\n",
              "  <script>\n",
              "    async function quickchart(key) {\n",
              "      const quickchartButtonEl =\n",
              "        document.querySelector('#' + key + ' button');\n",
              "      quickchartButtonEl.disabled = true;  // To prevent multiple clicks.\n",
              "      quickchartButtonEl.classList.add('colab-df-spinner');\n",
              "      try {\n",
              "        const charts = await google.colab.kernel.invokeFunction(\n",
              "            'suggestCharts', [key], {});\n",
              "      } catch (error) {\n",
              "        console.error('Error during call to suggestCharts:', error);\n",
              "      }\n",
              "      quickchartButtonEl.classList.remove('colab-df-spinner');\n",
              "      quickchartButtonEl.classList.add('colab-df-quickchart-complete');\n",
              "    }\n",
              "    (() => {\n",
              "      let quickchartButtonEl =\n",
              "        document.querySelector('#df-5d7cfecc-fceb-48d6-8fc0-0ea6477e0683 button');\n",
              "      quickchartButtonEl.style.display =\n",
              "        google.colab.kernel.accessAllowed ? 'block' : 'none';\n",
              "    })();\n",
              "  </script>\n",
              "</div>\n",
              "\n",
              "    </div>\n",
              "  </div>\n"
            ],
            "application/vnd.google.colaboratory.intrinsic+json": {
              "type": "dataframe",
              "variable_name": "df",
              "summary": "{\n  \"name\": \"df\",\n  \"rows\": 13200,\n  \"fields\": [\n    {\n      \"column\": \"Temperature\",\n      \"properties\": {\n        \"dtype\": \"number\",\n        \"std\": 17.386326582360788,\n        \"min\": -25.0,\n        \"max\": 109.0,\n        \"num_unique_values\": 126,\n        \"samples\": [\n          80.0,\n          4.0,\n          88.0\n        ],\n        \"semantic_type\": \"\",\n        \"description\": \"\"\n      }\n    },\n    {\n      \"column\": \"Humidity\",\n      \"properties\": {\n        \"dtype\": \"number\",\n        \"std\": 20,\n        \"min\": 20,\n        \"max\": 109,\n        \"num_unique_values\": 90,\n        \"samples\": [\n          84,\n          72,\n          38\n        ],\n        \"semantic_type\": \"\",\n        \"description\": \"\"\n      }\n    },\n    {\n      \"column\": \"Wind Speed\",\n      \"properties\": {\n        \"dtype\": \"number\",\n        \"std\": 6.908704141531295,\n        \"min\": 0.0,\n        \"max\": 48.5,\n        \"num_unique_values\": 97,\n        \"samples\": [\n          26.5,\n          14.5,\n          47.5\n        ],\n        \"semantic_type\": \"\",\n        \"description\": \"\"\n      }\n    },\n    {\n      \"column\": \"Precipitation (%)\",\n      \"properties\": {\n        \"dtype\": \"number\",\n        \"std\": 31.946540769981375,\n        \"min\": 0.0,\n        \"max\": 109.0,\n        \"num_unique_values\": 110,\n        \"samples\": [\n          51.0,\n          8.0,\n          26.0\n        ],\n        \"semantic_type\": \"\",\n        \"description\": \"\"\n      }\n    },\n    {\n      \"column\": \"Cloud Cover\",\n      \"properties\": {\n        \"dtype\": \"category\",\n        \"num_unique_values\": 4,\n        \"samples\": [\n          \"clear\",\n          \"cloudy\",\n          \"partly cloudy\"\n        ],\n        \"semantic_type\": \"\",\n        \"description\": \"\"\n      }\n    },\n    {\n      \"column\": \"Atmospheric Pressure\",\n      \"properties\": {\n        \"dtype\": \"number\",\n        \"std\": 37.199588697503295,\n        \"min\": 800.12,\n        \"max\": 1199.21,\n        \"num_unique_values\": 5456,\n        \"samples\": [\n          939.13,\n          985.08,\n          987.72\n        ],\n        \"semantic_type\": \"\",\n        \"description\": \"\"\n      }\n    },\n    {\n      \"column\": \"UV Index\",\n      \"properties\": {\n        \"dtype\": \"number\",\n        \"std\": 3,\n        \"min\": 0,\n        \"max\": 14,\n        \"num_unique_values\": 15,\n        \"samples\": [\n          4,\n          10,\n          2\n        ],\n        \"semantic_type\": \"\",\n        \"description\": \"\"\n      }\n    },\n    {\n      \"column\": \"Season\",\n      \"properties\": {\n        \"dtype\": \"category\",\n        \"num_unique_values\": 4,\n        \"samples\": [\n          \"Spring\",\n          \"Autumn\",\n          \"Winter\"\n        ],\n        \"semantic_type\": \"\",\n        \"description\": \"\"\n      }\n    },\n    {\n      \"column\": \"Visibility (km)\",\n      \"properties\": {\n        \"dtype\": \"number\",\n        \"std\": 3.371498910353949,\n        \"min\": 0.0,\n        \"max\": 20.0,\n        \"num_unique_values\": 41,\n        \"samples\": [\n          13.0,\n          9.5,\n          1.5\n        ],\n        \"semantic_type\": \"\",\n        \"description\": \"\"\n      }\n    },\n    {\n      \"column\": \"Location\",\n      \"properties\": {\n        \"dtype\": \"category\",\n        \"num_unique_values\": 3,\n        \"samples\": [\n          \"inland\",\n          \"mountain\",\n          \"coastal\"\n        ],\n        \"semantic_type\": \"\",\n        \"description\": \"\"\n      }\n    },\n    {\n      \"column\": \"Weather Type\",\n      \"properties\": {\n        \"dtype\": \"category\",\n        \"num_unique_values\": 4,\n        \"samples\": [\n          \"Cloudy\",\n          \"Snowy\",\n          \"Rainy\"\n        ],\n        \"semantic_type\": \"\",\n        \"description\": \"\"\n      }\n    }\n  ]\n}"
            }
          },
          "metadata": {},
          "execution_count": 24
        }
      ],
      "source": [
        "from google.colab import drive\n",
        "drive.mount('/content/drive')\n",
        "\n",
        "import pandas as pd\n",
        "import numpy as np\n",
        "\n",
        "df = pd.read_csv('/content/drive/MyDrive/weather_classification_data.csv')\n",
        "X = df.iloc[:, :-1].values\n",
        "y = df.iloc[:, -1].values\n",
        "df.head()"
      ]
    },
    {
      "cell_type": "code",
      "execution_count": null,
      "metadata": {
        "colab": {
          "base_uri": "https://localhost:8080/"
        },
        "id": "XBMW1lwbQjGM",
        "outputId": "bda43913-ded5-45a6-8c5c-1e5cb802a024"
      },
      "outputs": [
        {
          "output_type": "execute_result",
          "data": {
            "text/plain": [
              "(array(['Cloudy', 'Rainy', 'Snowy', 'Sunny'], dtype=object),\n",
              " array([3300, 3300, 3300, 3300]))"
            ]
          },
          "metadata": {},
          "execution_count": 25
        }
      ],
      "source": [
        "np.unique(df['Weather Type'], return_counts=True)"
      ]
    },
    {
      "cell_type": "markdown",
      "source": [
        "# **Feature Encoding**"
      ],
      "metadata": {
        "id": "brEClOyHbRO4"
      }
    },
    {
      "cell_type": "code",
      "execution_count": null,
      "metadata": {
        "id": "7VCD3TayU6qa"
      },
      "outputs": [],
      "source": [
        "X = df.drop('Weather Type', axis=1)\n",
        "y = df.iloc[::, -1]"
      ]
    },
    {
      "cell_type": "code",
      "source": [
        "# Encoding data categorical di variabel independent\n",
        "!pip install feature_engine\n",
        "from sklearn.preprocessing import LabelEncoder\n",
        "from sklearn.compose import ColumnTransformer\n",
        "from sklearn.preprocessing import OneHotEncoder\n",
        "from feature_engine.encoding import OrdinalEncoder\n",
        "\n",
        "encoder = OrdinalEncoder(\n",
        "    variables=['Cloud Cover', 'Season', 'Location'],\n",
        "    encoding_method='arbitrary'\n",
        ")\n",
        "\n",
        "encoder.fit(X)\n",
        "\n",
        "X = encoder.transform(X)"
      ],
      "metadata": {
        "id": "odaaqCsLbZkX",
        "colab": {
          "base_uri": "https://localhost:8080/"
        },
        "outputId": "00093f8e-7da1-44ad-8063-5e37377f322f"
      },
      "execution_count": null,
      "outputs": [
        {
          "output_type": "stream",
          "name": "stdout",
          "text": [
            "Requirement already satisfied: feature_engine in /usr/local/lib/python3.10/dist-packages (1.8.1)\n",
            "Requirement already satisfied: numpy>=1.18.2 in /usr/local/lib/python3.10/dist-packages (from feature_engine) (1.26.4)\n",
            "Requirement already satisfied: pandas>=2.2.0 in /usr/local/lib/python3.10/dist-packages (from feature_engine) (2.2.3)\n",
            "Requirement already satisfied: scikit-learn>=1.4.0 in /usr/local/lib/python3.10/dist-packages (from feature_engine) (1.5.2)\n",
            "Requirement already satisfied: scipy>=1.4.1 in /usr/local/lib/python3.10/dist-packages (from feature_engine) (1.13.1)\n",
            "Requirement already satisfied: statsmodels>=0.11.1 in /usr/local/lib/python3.10/dist-packages (from feature_engine) (0.14.3)\n",
            "Requirement already satisfied: python-dateutil>=2.8.2 in /usr/local/lib/python3.10/dist-packages (from pandas>=2.2.0->feature_engine) (2.8.2)\n",
            "Requirement already satisfied: pytz>=2020.1 in /usr/local/lib/python3.10/dist-packages (from pandas>=2.2.0->feature_engine) (2024.2)\n",
            "Requirement already satisfied: tzdata>=2022.7 in /usr/local/lib/python3.10/dist-packages (from pandas>=2.2.0->feature_engine) (2024.1)\n",
            "Requirement already satisfied: joblib>=1.2.0 in /usr/local/lib/python3.10/dist-packages (from scikit-learn>=1.4.0->feature_engine) (1.4.2)\n",
            "Requirement already satisfied: threadpoolctl>=3.1.0 in /usr/local/lib/python3.10/dist-packages (from scikit-learn>=1.4.0->feature_engine) (3.5.0)\n",
            "Requirement already satisfied: patsy>=0.5.6 in /usr/local/lib/python3.10/dist-packages (from statsmodels>=0.11.1->feature_engine) (0.5.6)\n",
            "Requirement already satisfied: packaging>=21.3 in /usr/local/lib/python3.10/dist-packages (from statsmodels>=0.11.1->feature_engine) (24.1)\n",
            "Requirement already satisfied: six in /usr/local/lib/python3.10/dist-packages (from patsy>=0.5.6->statsmodels>=0.11.1->feature_engine) (1.16.0)\n"
          ]
        }
      ]
    },
    {
      "cell_type": "markdown",
      "source": [
        "* cloud cover: 0 = partly cloudy, 1 = clear, 2 = overcast, 3 = cloudy\n",
        "* season: 0 = winter, 1 = spring, 2 = summer , 3 = autumn\n",
        "* location: 0 = inland, 1 = mountain, 2 = coastal"
      ],
      "metadata": {
        "id": "Ki5T9J9nb5oN"
      }
    },
    {
      "cell_type": "code",
      "source": [
        "# Encoding data di variabel dependent\n",
        "le = LabelEncoder()\n",
        "le.fit(y)\n",
        "\n",
        "y = le.transform(y)"
      ],
      "metadata": {
        "id": "ncqpDvdebkBQ"
      },
      "execution_count": null,
      "outputs": []
    },
    {
      "cell_type": "markdown",
      "source": [
        "0 = cloudy, 1 = rainy, 2 = snowy, 3 = sunny"
      ],
      "metadata": {
        "id": "4uDYkm72dh8C"
      }
    },
    {
      "cell_type": "code",
      "source": [
        "df = pd.concat([X, pd.DataFrame(y, columns=['Weather Type'])], axis=1)\n",
        "df"
      ],
      "metadata": {
        "colab": {
          "base_uri": "https://localhost:8080/",
          "height": 423
        },
        "id": "F77zJc3Fb0Ak",
        "outputId": "5f96d511-c01d-4bed-d44a-bf0a4970b52e"
      },
      "execution_count": null,
      "outputs": [
        {
          "output_type": "execute_result",
          "data": {
            "text/plain": [
              "       Temperature  Humidity  Wind Speed  Precipitation (%)  Cloud Cover  \\\n",
              "0             14.0        73         9.5               82.0            0   \n",
              "1             39.0        96         8.5               71.0            0   \n",
              "2             30.0        64         7.0               16.0            1   \n",
              "3             38.0        83         1.5               82.0            1   \n",
              "4             27.0        74        17.0               66.0            2   \n",
              "...            ...       ...         ...                ...          ...   \n",
              "13195         10.0        74        14.5               71.0            2   \n",
              "13196         -1.0        76         3.5               23.0            3   \n",
              "13197         30.0        77         5.5               28.0            2   \n",
              "13198          3.0        76        10.0               94.0            2   \n",
              "13199         -5.0        38         0.0               92.0            2   \n",
              "\n",
              "       Atmospheric Pressure  UV Index  Season  Visibility (km)  Location  \\\n",
              "0                   1010.82         2       0              3.5         0   \n",
              "1                   1011.43         7       1             10.0         0   \n",
              "2                   1018.72         5       1              5.5         1   \n",
              "3                   1026.25         7       1              1.0         2   \n",
              "4                    990.67         1       0              2.5         1   \n",
              "...                     ...       ...     ...              ...       ...   \n",
              "13195               1003.15         1       2              1.0         1   \n",
              "13196               1067.23         1       0              6.0         2   \n",
              "13197               1012.69         3       3              9.0         2   \n",
              "13198                984.27         0       0              2.0         0   \n",
              "13199               1015.37         5       3             10.0         1   \n",
              "\n",
              "       Weather Type  \n",
              "0                 1  \n",
              "1                 0  \n",
              "2                 3  \n",
              "3                 3  \n",
              "4                 1  \n",
              "...             ...  \n",
              "13195             1  \n",
              "13196             2  \n",
              "13197             0  \n",
              "13198             2  \n",
              "13199             1  \n",
              "\n",
              "[13200 rows x 11 columns]"
            ],
            "text/html": [
              "\n",
              "  <div id=\"df-1d27719f-2ed1-43d6-a35f-b9c7ee45f413\" class=\"colab-df-container\">\n",
              "    <div>\n",
              "<style scoped>\n",
              "    .dataframe tbody tr th:only-of-type {\n",
              "        vertical-align: middle;\n",
              "    }\n",
              "\n",
              "    .dataframe tbody tr th {\n",
              "        vertical-align: top;\n",
              "    }\n",
              "\n",
              "    .dataframe thead th {\n",
              "        text-align: right;\n",
              "    }\n",
              "</style>\n",
              "<table border=\"1\" class=\"dataframe\">\n",
              "  <thead>\n",
              "    <tr style=\"text-align: right;\">\n",
              "      <th></th>\n",
              "      <th>Temperature</th>\n",
              "      <th>Humidity</th>\n",
              "      <th>Wind Speed</th>\n",
              "      <th>Precipitation (%)</th>\n",
              "      <th>Cloud Cover</th>\n",
              "      <th>Atmospheric Pressure</th>\n",
              "      <th>UV Index</th>\n",
              "      <th>Season</th>\n",
              "      <th>Visibility (km)</th>\n",
              "      <th>Location</th>\n",
              "      <th>Weather Type</th>\n",
              "    </tr>\n",
              "  </thead>\n",
              "  <tbody>\n",
              "    <tr>\n",
              "      <th>0</th>\n",
              "      <td>14.0</td>\n",
              "      <td>73</td>\n",
              "      <td>9.5</td>\n",
              "      <td>82.0</td>\n",
              "      <td>0</td>\n",
              "      <td>1010.82</td>\n",
              "      <td>2</td>\n",
              "      <td>0</td>\n",
              "      <td>3.5</td>\n",
              "      <td>0</td>\n",
              "      <td>1</td>\n",
              "    </tr>\n",
              "    <tr>\n",
              "      <th>1</th>\n",
              "      <td>39.0</td>\n",
              "      <td>96</td>\n",
              "      <td>8.5</td>\n",
              "      <td>71.0</td>\n",
              "      <td>0</td>\n",
              "      <td>1011.43</td>\n",
              "      <td>7</td>\n",
              "      <td>1</td>\n",
              "      <td>10.0</td>\n",
              "      <td>0</td>\n",
              "      <td>0</td>\n",
              "    </tr>\n",
              "    <tr>\n",
              "      <th>2</th>\n",
              "      <td>30.0</td>\n",
              "      <td>64</td>\n",
              "      <td>7.0</td>\n",
              "      <td>16.0</td>\n",
              "      <td>1</td>\n",
              "      <td>1018.72</td>\n",
              "      <td>5</td>\n",
              "      <td>1</td>\n",
              "      <td>5.5</td>\n",
              "      <td>1</td>\n",
              "      <td>3</td>\n",
              "    </tr>\n",
              "    <tr>\n",
              "      <th>3</th>\n",
              "      <td>38.0</td>\n",
              "      <td>83</td>\n",
              "      <td>1.5</td>\n",
              "      <td>82.0</td>\n",
              "      <td>1</td>\n",
              "      <td>1026.25</td>\n",
              "      <td>7</td>\n",
              "      <td>1</td>\n",
              "      <td>1.0</td>\n",
              "      <td>2</td>\n",
              "      <td>3</td>\n",
              "    </tr>\n",
              "    <tr>\n",
              "      <th>4</th>\n",
              "      <td>27.0</td>\n",
              "      <td>74</td>\n",
              "      <td>17.0</td>\n",
              "      <td>66.0</td>\n",
              "      <td>2</td>\n",
              "      <td>990.67</td>\n",
              "      <td>1</td>\n",
              "      <td>0</td>\n",
              "      <td>2.5</td>\n",
              "      <td>1</td>\n",
              "      <td>1</td>\n",
              "    </tr>\n",
              "    <tr>\n",
              "      <th>...</th>\n",
              "      <td>...</td>\n",
              "      <td>...</td>\n",
              "      <td>...</td>\n",
              "      <td>...</td>\n",
              "      <td>...</td>\n",
              "      <td>...</td>\n",
              "      <td>...</td>\n",
              "      <td>...</td>\n",
              "      <td>...</td>\n",
              "      <td>...</td>\n",
              "      <td>...</td>\n",
              "    </tr>\n",
              "    <tr>\n",
              "      <th>13195</th>\n",
              "      <td>10.0</td>\n",
              "      <td>74</td>\n",
              "      <td>14.5</td>\n",
              "      <td>71.0</td>\n",
              "      <td>2</td>\n",
              "      <td>1003.15</td>\n",
              "      <td>1</td>\n",
              "      <td>2</td>\n",
              "      <td>1.0</td>\n",
              "      <td>1</td>\n",
              "      <td>1</td>\n",
              "    </tr>\n",
              "    <tr>\n",
              "      <th>13196</th>\n",
              "      <td>-1.0</td>\n",
              "      <td>76</td>\n",
              "      <td>3.5</td>\n",
              "      <td>23.0</td>\n",
              "      <td>3</td>\n",
              "      <td>1067.23</td>\n",
              "      <td>1</td>\n",
              "      <td>0</td>\n",
              "      <td>6.0</td>\n",
              "      <td>2</td>\n",
              "      <td>2</td>\n",
              "    </tr>\n",
              "    <tr>\n",
              "      <th>13197</th>\n",
              "      <td>30.0</td>\n",
              "      <td>77</td>\n",
              "      <td>5.5</td>\n",
              "      <td>28.0</td>\n",
              "      <td>2</td>\n",
              "      <td>1012.69</td>\n",
              "      <td>3</td>\n",
              "      <td>3</td>\n",
              "      <td>9.0</td>\n",
              "      <td>2</td>\n",
              "      <td>0</td>\n",
              "    </tr>\n",
              "    <tr>\n",
              "      <th>13198</th>\n",
              "      <td>3.0</td>\n",
              "      <td>76</td>\n",
              "      <td>10.0</td>\n",
              "      <td>94.0</td>\n",
              "      <td>2</td>\n",
              "      <td>984.27</td>\n",
              "      <td>0</td>\n",
              "      <td>0</td>\n",
              "      <td>2.0</td>\n",
              "      <td>0</td>\n",
              "      <td>2</td>\n",
              "    </tr>\n",
              "    <tr>\n",
              "      <th>13199</th>\n",
              "      <td>-5.0</td>\n",
              "      <td>38</td>\n",
              "      <td>0.0</td>\n",
              "      <td>92.0</td>\n",
              "      <td>2</td>\n",
              "      <td>1015.37</td>\n",
              "      <td>5</td>\n",
              "      <td>3</td>\n",
              "      <td>10.0</td>\n",
              "      <td>1</td>\n",
              "      <td>1</td>\n",
              "    </tr>\n",
              "  </tbody>\n",
              "</table>\n",
              "<p>13200 rows × 11 columns</p>\n",
              "</div>\n",
              "    <div class=\"colab-df-buttons\">\n",
              "\n",
              "  <div class=\"colab-df-container\">\n",
              "    <button class=\"colab-df-convert\" onclick=\"convertToInteractive('df-1d27719f-2ed1-43d6-a35f-b9c7ee45f413')\"\n",
              "            title=\"Convert this dataframe to an interactive table.\"\n",
              "            style=\"display:none;\">\n",
              "\n",
              "  <svg xmlns=\"http://www.w3.org/2000/svg\" height=\"24px\" viewBox=\"0 -960 960 960\">\n",
              "    <path d=\"M120-120v-720h720v720H120Zm60-500h600v-160H180v160Zm220 220h160v-160H400v160Zm0 220h160v-160H400v160ZM180-400h160v-160H180v160Zm440 0h160v-160H620v160ZM180-180h160v-160H180v160Zm440 0h160v-160H620v160Z\"/>\n",
              "  </svg>\n",
              "    </button>\n",
              "\n",
              "  <style>\n",
              "    .colab-df-container {\n",
              "      display:flex;\n",
              "      gap: 12px;\n",
              "    }\n",
              "\n",
              "    .colab-df-convert {\n",
              "      background-color: #E8F0FE;\n",
              "      border: none;\n",
              "      border-radius: 50%;\n",
              "      cursor: pointer;\n",
              "      display: none;\n",
              "      fill: #1967D2;\n",
              "      height: 32px;\n",
              "      padding: 0 0 0 0;\n",
              "      width: 32px;\n",
              "    }\n",
              "\n",
              "    .colab-df-convert:hover {\n",
              "      background-color: #E2EBFA;\n",
              "      box-shadow: 0px 1px 2px rgba(60, 64, 67, 0.3), 0px 1px 3px 1px rgba(60, 64, 67, 0.15);\n",
              "      fill: #174EA6;\n",
              "    }\n",
              "\n",
              "    .colab-df-buttons div {\n",
              "      margin-bottom: 4px;\n",
              "    }\n",
              "\n",
              "    [theme=dark] .colab-df-convert {\n",
              "      background-color: #3B4455;\n",
              "      fill: #D2E3FC;\n",
              "    }\n",
              "\n",
              "    [theme=dark] .colab-df-convert:hover {\n",
              "      background-color: #434B5C;\n",
              "      box-shadow: 0px 1px 3px 1px rgba(0, 0, 0, 0.15);\n",
              "      filter: drop-shadow(0px 1px 2px rgba(0, 0, 0, 0.3));\n",
              "      fill: #FFFFFF;\n",
              "    }\n",
              "  </style>\n",
              "\n",
              "    <script>\n",
              "      const buttonEl =\n",
              "        document.querySelector('#df-1d27719f-2ed1-43d6-a35f-b9c7ee45f413 button.colab-df-convert');\n",
              "      buttonEl.style.display =\n",
              "        google.colab.kernel.accessAllowed ? 'block' : 'none';\n",
              "\n",
              "      async function convertToInteractive(key) {\n",
              "        const element = document.querySelector('#df-1d27719f-2ed1-43d6-a35f-b9c7ee45f413');\n",
              "        const dataTable =\n",
              "          await google.colab.kernel.invokeFunction('convertToInteractive',\n",
              "                                                    [key], {});\n",
              "        if (!dataTable) return;\n",
              "\n",
              "        const docLinkHtml = 'Like what you see? Visit the ' +\n",
              "          '<a target=\"_blank\" href=https://colab.research.google.com/notebooks/data_table.ipynb>data table notebook</a>'\n",
              "          + ' to learn more about interactive tables.';\n",
              "        element.innerHTML = '';\n",
              "        dataTable['output_type'] = 'display_data';\n",
              "        await google.colab.output.renderOutput(dataTable, element);\n",
              "        const docLink = document.createElement('div');\n",
              "        docLink.innerHTML = docLinkHtml;\n",
              "        element.appendChild(docLink);\n",
              "      }\n",
              "    </script>\n",
              "  </div>\n",
              "\n",
              "\n",
              "<div id=\"df-3e76b9ba-8fb9-4962-b000-292f44f31d93\">\n",
              "  <button class=\"colab-df-quickchart\" onclick=\"quickchart('df-3e76b9ba-8fb9-4962-b000-292f44f31d93')\"\n",
              "            title=\"Suggest charts\"\n",
              "            style=\"display:none;\">\n",
              "\n",
              "<svg xmlns=\"http://www.w3.org/2000/svg\" height=\"24px\"viewBox=\"0 0 24 24\"\n",
              "     width=\"24px\">\n",
              "    <g>\n",
              "        <path d=\"M19 3H5c-1.1 0-2 .9-2 2v14c0 1.1.9 2 2 2h14c1.1 0 2-.9 2-2V5c0-1.1-.9-2-2-2zM9 17H7v-7h2v7zm4 0h-2V7h2v10zm4 0h-2v-4h2v4z\"/>\n",
              "    </g>\n",
              "</svg>\n",
              "  </button>\n",
              "\n",
              "<style>\n",
              "  .colab-df-quickchart {\n",
              "      --bg-color: #E8F0FE;\n",
              "      --fill-color: #1967D2;\n",
              "      --hover-bg-color: #E2EBFA;\n",
              "      --hover-fill-color: #174EA6;\n",
              "      --disabled-fill-color: #AAA;\n",
              "      --disabled-bg-color: #DDD;\n",
              "  }\n",
              "\n",
              "  [theme=dark] .colab-df-quickchart {\n",
              "      --bg-color: #3B4455;\n",
              "      --fill-color: #D2E3FC;\n",
              "      --hover-bg-color: #434B5C;\n",
              "      --hover-fill-color: #FFFFFF;\n",
              "      --disabled-bg-color: #3B4455;\n",
              "      --disabled-fill-color: #666;\n",
              "  }\n",
              "\n",
              "  .colab-df-quickchart {\n",
              "    background-color: var(--bg-color);\n",
              "    border: none;\n",
              "    border-radius: 50%;\n",
              "    cursor: pointer;\n",
              "    display: none;\n",
              "    fill: var(--fill-color);\n",
              "    height: 32px;\n",
              "    padding: 0;\n",
              "    width: 32px;\n",
              "  }\n",
              "\n",
              "  .colab-df-quickchart:hover {\n",
              "    background-color: var(--hover-bg-color);\n",
              "    box-shadow: 0 1px 2px rgba(60, 64, 67, 0.3), 0 1px 3px 1px rgba(60, 64, 67, 0.15);\n",
              "    fill: var(--button-hover-fill-color);\n",
              "  }\n",
              "\n",
              "  .colab-df-quickchart-complete:disabled,\n",
              "  .colab-df-quickchart-complete:disabled:hover {\n",
              "    background-color: var(--disabled-bg-color);\n",
              "    fill: var(--disabled-fill-color);\n",
              "    box-shadow: none;\n",
              "  }\n",
              "\n",
              "  .colab-df-spinner {\n",
              "    border: 2px solid var(--fill-color);\n",
              "    border-color: transparent;\n",
              "    border-bottom-color: var(--fill-color);\n",
              "    animation:\n",
              "      spin 1s steps(1) infinite;\n",
              "  }\n",
              "\n",
              "  @keyframes spin {\n",
              "    0% {\n",
              "      border-color: transparent;\n",
              "      border-bottom-color: var(--fill-color);\n",
              "      border-left-color: var(--fill-color);\n",
              "    }\n",
              "    20% {\n",
              "      border-color: transparent;\n",
              "      border-left-color: var(--fill-color);\n",
              "      border-top-color: var(--fill-color);\n",
              "    }\n",
              "    30% {\n",
              "      border-color: transparent;\n",
              "      border-left-color: var(--fill-color);\n",
              "      border-top-color: var(--fill-color);\n",
              "      border-right-color: var(--fill-color);\n",
              "    }\n",
              "    40% {\n",
              "      border-color: transparent;\n",
              "      border-right-color: var(--fill-color);\n",
              "      border-top-color: var(--fill-color);\n",
              "    }\n",
              "    60% {\n",
              "      border-color: transparent;\n",
              "      border-right-color: var(--fill-color);\n",
              "    }\n",
              "    80% {\n",
              "      border-color: transparent;\n",
              "      border-right-color: var(--fill-color);\n",
              "      border-bottom-color: var(--fill-color);\n",
              "    }\n",
              "    90% {\n",
              "      border-color: transparent;\n",
              "      border-bottom-color: var(--fill-color);\n",
              "    }\n",
              "  }\n",
              "</style>\n",
              "\n",
              "  <script>\n",
              "    async function quickchart(key) {\n",
              "      const quickchartButtonEl =\n",
              "        document.querySelector('#' + key + ' button');\n",
              "      quickchartButtonEl.disabled = true;  // To prevent multiple clicks.\n",
              "      quickchartButtonEl.classList.add('colab-df-spinner');\n",
              "      try {\n",
              "        const charts = await google.colab.kernel.invokeFunction(\n",
              "            'suggestCharts', [key], {});\n",
              "      } catch (error) {\n",
              "        console.error('Error during call to suggestCharts:', error);\n",
              "      }\n",
              "      quickchartButtonEl.classList.remove('colab-df-spinner');\n",
              "      quickchartButtonEl.classList.add('colab-df-quickchart-complete');\n",
              "    }\n",
              "    (() => {\n",
              "      let quickchartButtonEl =\n",
              "        document.querySelector('#df-3e76b9ba-8fb9-4962-b000-292f44f31d93 button');\n",
              "      quickchartButtonEl.style.display =\n",
              "        google.colab.kernel.accessAllowed ? 'block' : 'none';\n",
              "    })();\n",
              "  </script>\n",
              "</div>\n",
              "\n",
              "  <div id=\"id_ea7196e0-32e3-451a-9866-326caea3d9ed\">\n",
              "    <style>\n",
              "      .colab-df-generate {\n",
              "        background-color: #E8F0FE;\n",
              "        border: none;\n",
              "        border-radius: 50%;\n",
              "        cursor: pointer;\n",
              "        display: none;\n",
              "        fill: #1967D2;\n",
              "        height: 32px;\n",
              "        padding: 0 0 0 0;\n",
              "        width: 32px;\n",
              "      }\n",
              "\n",
              "      .colab-df-generate:hover {\n",
              "        background-color: #E2EBFA;\n",
              "        box-shadow: 0px 1px 2px rgba(60, 64, 67, 0.3), 0px 1px 3px 1px rgba(60, 64, 67, 0.15);\n",
              "        fill: #174EA6;\n",
              "      }\n",
              "\n",
              "      [theme=dark] .colab-df-generate {\n",
              "        background-color: #3B4455;\n",
              "        fill: #D2E3FC;\n",
              "      }\n",
              "\n",
              "      [theme=dark] .colab-df-generate:hover {\n",
              "        background-color: #434B5C;\n",
              "        box-shadow: 0px 1px 3px 1px rgba(0, 0, 0, 0.15);\n",
              "        filter: drop-shadow(0px 1px 2px rgba(0, 0, 0, 0.3));\n",
              "        fill: #FFFFFF;\n",
              "      }\n",
              "    </style>\n",
              "    <button class=\"colab-df-generate\" onclick=\"generateWithVariable('df')\"\n",
              "            title=\"Generate code using this dataframe.\"\n",
              "            style=\"display:none;\">\n",
              "\n",
              "  <svg xmlns=\"http://www.w3.org/2000/svg\" height=\"24px\"viewBox=\"0 0 24 24\"\n",
              "       width=\"24px\">\n",
              "    <path d=\"M7,19H8.4L18.45,9,17,7.55,7,17.6ZM5,21V16.75L18.45,3.32a2,2,0,0,1,2.83,0l1.4,1.43a1.91,1.91,0,0,1,.58,1.4,1.91,1.91,0,0,1-.58,1.4L9.25,21ZM18.45,9,17,7.55Zm-12,3A5.31,5.31,0,0,0,4.9,8.1,5.31,5.31,0,0,0,1,6.5,5.31,5.31,0,0,0,4.9,4.9,5.31,5.31,0,0,0,6.5,1,5.31,5.31,0,0,0,8.1,4.9,5.31,5.31,0,0,0,12,6.5,5.46,5.46,0,0,0,6.5,12Z\"/>\n",
              "  </svg>\n",
              "    </button>\n",
              "    <script>\n",
              "      (() => {\n",
              "      const buttonEl =\n",
              "        document.querySelector('#id_ea7196e0-32e3-451a-9866-326caea3d9ed button.colab-df-generate');\n",
              "      buttonEl.style.display =\n",
              "        google.colab.kernel.accessAllowed ? 'block' : 'none';\n",
              "\n",
              "      buttonEl.onclick = () => {\n",
              "        google.colab.notebook.generateWithVariable('df');\n",
              "      }\n",
              "      })();\n",
              "    </script>\n",
              "  </div>\n",
              "\n",
              "    </div>\n",
              "  </div>\n"
            ],
            "application/vnd.google.colaboratory.intrinsic+json": {
              "type": "dataframe",
              "variable_name": "df",
              "summary": "{\n  \"name\": \"df\",\n  \"rows\": 13200,\n  \"fields\": [\n    {\n      \"column\": \"Temperature\",\n      \"properties\": {\n        \"dtype\": \"number\",\n        \"std\": 17.386326582360788,\n        \"min\": -25.0,\n        \"max\": 109.0,\n        \"num_unique_values\": 126,\n        \"samples\": [\n          80.0,\n          4.0,\n          88.0\n        ],\n        \"semantic_type\": \"\",\n        \"description\": \"\"\n      }\n    },\n    {\n      \"column\": \"Humidity\",\n      \"properties\": {\n        \"dtype\": \"number\",\n        \"std\": 20,\n        \"min\": 20,\n        \"max\": 109,\n        \"num_unique_values\": 90,\n        \"samples\": [\n          84,\n          72,\n          38\n        ],\n        \"semantic_type\": \"\",\n        \"description\": \"\"\n      }\n    },\n    {\n      \"column\": \"Wind Speed\",\n      \"properties\": {\n        \"dtype\": \"number\",\n        \"std\": 6.908704141531295,\n        \"min\": 0.0,\n        \"max\": 48.5,\n        \"num_unique_values\": 97,\n        \"samples\": [\n          26.5,\n          14.5,\n          47.5\n        ],\n        \"semantic_type\": \"\",\n        \"description\": \"\"\n      }\n    },\n    {\n      \"column\": \"Precipitation (%)\",\n      \"properties\": {\n        \"dtype\": \"number\",\n        \"std\": 31.946540769981375,\n        \"min\": 0.0,\n        \"max\": 109.0,\n        \"num_unique_values\": 110,\n        \"samples\": [\n          51.0,\n          8.0,\n          26.0\n        ],\n        \"semantic_type\": \"\",\n        \"description\": \"\"\n      }\n    },\n    {\n      \"column\": \"Cloud Cover\",\n      \"properties\": {\n        \"dtype\": \"number\",\n        \"std\": 0,\n        \"min\": 0,\n        \"max\": 3,\n        \"num_unique_values\": 4,\n        \"samples\": [\n          1,\n          3,\n          0\n        ],\n        \"semantic_type\": \"\",\n        \"description\": \"\"\n      }\n    },\n    {\n      \"column\": \"Atmospheric Pressure\",\n      \"properties\": {\n        \"dtype\": \"number\",\n        \"std\": 37.199588697503295,\n        \"min\": 800.12,\n        \"max\": 1199.21,\n        \"num_unique_values\": 5456,\n        \"samples\": [\n          939.13,\n          985.08,\n          987.72\n        ],\n        \"semantic_type\": \"\",\n        \"description\": \"\"\n      }\n    },\n    {\n      \"column\": \"UV Index\",\n      \"properties\": {\n        \"dtype\": \"number\",\n        \"std\": 3,\n        \"min\": 0,\n        \"max\": 14,\n        \"num_unique_values\": 15,\n        \"samples\": [\n          4,\n          10,\n          2\n        ],\n        \"semantic_type\": \"\",\n        \"description\": \"\"\n      }\n    },\n    {\n      \"column\": \"Season\",\n      \"properties\": {\n        \"dtype\": \"number\",\n        \"std\": 1,\n        \"min\": 0,\n        \"max\": 3,\n        \"num_unique_values\": 4,\n        \"samples\": [\n          1,\n          3,\n          0\n        ],\n        \"semantic_type\": \"\",\n        \"description\": \"\"\n      }\n    },\n    {\n      \"column\": \"Visibility (km)\",\n      \"properties\": {\n        \"dtype\": \"number\",\n        \"std\": 3.371498910353949,\n        \"min\": 0.0,\n        \"max\": 20.0,\n        \"num_unique_values\": 41,\n        \"samples\": [\n          13.0,\n          9.5,\n          1.5\n        ],\n        \"semantic_type\": \"\",\n        \"description\": \"\"\n      }\n    },\n    {\n      \"column\": \"Location\",\n      \"properties\": {\n        \"dtype\": \"number\",\n        \"std\": 0,\n        \"min\": 0,\n        \"max\": 2,\n        \"num_unique_values\": 3,\n        \"samples\": [\n          0,\n          1,\n          2\n        ],\n        \"semantic_type\": \"\",\n        \"description\": \"\"\n      }\n    },\n    {\n      \"column\": \"Weather Type\",\n      \"properties\": {\n        \"dtype\": \"number\",\n        \"std\": 1,\n        \"min\": 0,\n        \"max\": 3,\n        \"num_unique_values\": 4,\n        \"samples\": [\n          0,\n          2,\n          1\n        ],\n        \"semantic_type\": \"\",\n        \"description\": \"\"\n      }\n    }\n  ]\n}"
            }
          },
          "metadata": {},
          "execution_count": 29
        }
      ]
    },
    {
      "cell_type": "markdown",
      "metadata": {
        "id": "G36inGXCf3Kw"
      },
      "source": [
        "# **DATA CLEANSING**"
      ]
    },
    {
      "cell_type": "code",
      "execution_count": null,
      "metadata": {
        "colab": {
          "base_uri": "https://localhost:8080/"
        },
        "id": "rCxwfJvIf4pQ",
        "outputId": "1f90b535-8fc2-407c-fd89-9cd682c25e77"
      },
      "outputs": [
        {
          "output_type": "stream",
          "name": "stdout",
          "text": [
            "There are 0 missing values in the dataset\n",
            "There are 0 duplicate values in the dataset\n"
          ]
        }
      ],
      "source": [
        "# Checking missing and duplicated values\n",
        "print(f'There are {df.isna().sum().sum()} missing values in the dataset')\n",
        "print(f'There are {df.duplicated().sum()} duplicate values in the dataset')"
      ]
    },
    {
      "cell_type": "code",
      "execution_count": null,
      "metadata": {
        "colab": {
          "base_uri": "https://localhost:8080/"
        },
        "id": "aZdSYNA9gDMP",
        "outputId": "39372740-bafa-469f-c0e4-3c0ea3502b1a"
      },
      "outputs": [
        {
          "output_type": "execute_result",
          "data": {
            "text/plain": [
              "Index(['Temperature', 'Humidity', 'Wind Speed', 'Precipitation (%)',\n",
              "       'Cloud Cover', 'Atmospheric Pressure', 'UV Index', 'Season',\n",
              "       'Visibility (km)', 'Location', 'Weather Type'],\n",
              "      dtype='object')"
            ]
          },
          "metadata": {},
          "execution_count": 31
        }
      ],
      "source": [
        "numeric_columns = df.select_dtypes(include=['float64', 'int64']).columns\n",
        "numeric_columns"
      ]
    },
    {
      "cell_type": "code",
      "execution_count": null,
      "metadata": {
        "colab": {
          "base_uri": "https://localhost:8080/"
        },
        "id": "QQMsca6EgFAn",
        "outputId": "4396cb8a-1ae1-40e8-897e-a4778dc220a2"
      },
      "outputs": [
        {
          "output_type": "display_data",
          "data": {
            "text/plain": [
              "<Figure size 600x600 with 1 Axes>"
            ],
            "image/png": "[encoded data removed]"
          },
          "metadata": {}
        },
        {
          "output_type": "display_data",
          "data": {
            "text/plain": [
              "<Figure size 600x600 with 1 Axes>"
            ],
            "image/png": "[encoded data removed]"
          },
          "metadata": {}
        },
        {
          "output_type": "display_data",
          "data": {
            "text/plain": [
              "<Figure size 600x600 with 1 Axes>"
            ],
            "image/png": "[encoded data removed]"
          },
          "metadata": {}
        },
        {
          "output_type": "display_data",
          "data": {
            "text/plain": [
              "<Figure size 600x600 with 1 Axes>"
            ],
            "image/png": "[encoded data removed]"
          },
          "metadata": {}
        },
        {
          "output_type": "display_data",
          "data": {
            "text/plain": [
              "<Figure size 600x600 with 1 Axes>"
            ],
            "image/png": "[encoded data removed]"
          },
          "metadata": {}
        },
        {
          "output_type": "display_data",
          "data": {
            "text/plain": [
              "<Figure size 600x600 with 1 Axes>"
            ],
            "image/png": "[encoded data removed]"
          },
          "metadata": {}
        },
        {
          "output_type": "display_data",
          "data": {
            "text/plain": [
              "<Figure size 600x600 with 1 Axes>"
            ],
            "image/png": "[encoded data removed]"
          },
          "metadata": {}
        },
        {
          "output_type": "display_data",
          "data": {
            "text/plain": [
              "<Figure size 600x600 with 1 Axes>"
            ],
            "image/png": "[encoded data removed]"
          },
          "metadata": {}
        },
        {
          "output_type": "display_data",
          "data": {
            "text/plain": [
              "<Figure size 600x600 with 1 Axes>"
            ],
            "image/png": "[encoded data removed]"
          },
          "metadata": {}
        },
        {
          "output_type": "display_data",
          "data": {
            "text/plain": [
              "<Figure size 600x600 with 1 Axes>"
            ],
            "image/png": "[encoded data removed]"
          },
          "metadata": {}
        },
        {
          "output_type": "display_data",
          "data": {
            "text/plain": [
              "<Figure size 600x600 with 1 Axes>"
            ],
            "image/png": "[encoded data removed]"
          },
          "metadata": {}
        }
      ],
      "source": [
        "import matplotlib.pyplot as plt\n",
        "for col in numeric_columns:\n",
        "    plt.figure(figsize=(6, 6))\n",
        "    plt.boxplot(df[col])\n",
        "    plt.title(f'Boxplot of {col}')\n",
        "    plt.show()"
      ]
    },
    {
      "cell_type": "code",
      "execution_count": null,
      "metadata": {
        "colab": {
          "base_uri": "https://localhost:8080/"
        },
        "id": "lyVSEnvwgMeH",
        "outputId": "d1da941d-e9b5-450a-ece4-bd639678ffe9"
      },
      "outputs": [
        {
          "output_type": "display_data",
          "data": {
            "text/plain": [
              "<Figure size 600x600 with 1 Axes>"
            ],
            "image/png": "[encoded data removed]"
          },
          "metadata": {}
        }
      ],
      "source": [
        "def cap_outliers(df, column, lower_percentile=1, upper_percentile=99):\n",
        "    lower_bound = np.percentile(df[column], lower_percentile)\n",
        "    upper_bound = np.percentile(df[column], upper_percentile)\n",
        "    df[column] = np.where(df[column] < lower_bound, lower_bound, df[column])\n",
        "    df[column] = np.where(df[column] > upper_bound, upper_bound, df[column])\n",
        "    return df\n",
        "\n",
        "df_capped = df.copy()\n",
        "\n",
        "cap_variables = ['Temperature']\n",
        "\n",
        "for column in cap_variables:\n",
        "    df_capped = cap_outliers(df, column)\n",
        "\n",
        "# Verify the changes by plotting the boxplot again\n",
        "plt.figure(figsize=(6, 6))\n",
        "\n",
        "for col in cap_variables:\n",
        "  plt.boxplot(df_capped[col])\n",
        "  plt.title(f'Boxplot After Capped: {col}')\n",
        "  plt.xticks(rotation=45)\n",
        "  plt.show()"
      ]
    },
    {
      "cell_type": "markdown",
      "metadata": {
        "id": "FuEt16xji544"
      },
      "source": [
        "# **SPLITTING THE DATASET**"
      ]
    },
    {
      "cell_type": "code",
      "execution_count": null,
      "metadata": {
        "id": "gEmVfkOhi7ko"
      },
      "outputs": [],
      "source": [
        "from sklearn.model_selection import train_test_split\n",
        "\n",
        "X_train, X_test, y_train, y_test = train_test_split(X, y, test_size = 0.3, random_state = 0)"
      ]
    },
    {
      "cell_type": "code",
      "execution_count": null,
      "metadata": {
        "colab": {
          "base_uri": "https://localhost:8080/"
        },
        "id": "YdI8kh_LjDzw",
        "outputId": "ba1b1e73-f8e4-4721-c6de-771b0d903a3a"
      },
      "outputs": [
        {
          "output_type": "stream",
          "name": "stdout",
          "text": [
            "       Temperature  Humidity  Wind Speed  Precipitation (%)  Cloud Cover  \\\n",
            "10918         25.0        72        15.0               87.0            2   \n",
            "1361          66.0       107        13.0              109.0            0   \n",
            "6260          23.0        99         6.0               79.0            0   \n",
            "10848          2.0        95         1.5               74.0            2   \n",
            "4014          -7.0        92         9.0               61.0            2   \n",
            "...            ...       ...         ...                ...          ...   \n",
            "13123          1.0        79         2.5               83.0            2   \n",
            "3264          -4.0        65         7.5               58.0            0   \n",
            "9845          30.0        59         8.5                5.0            1   \n",
            "10799         13.0        34         4.0               89.0            0   \n",
            "2732          12.0        71        19.5               77.0            2   \n",
            "\n",
            "       Atmospheric Pressure  UV Index  Season  Visibility (km)  Location  \n",
            "10918                991.55         1       0              2.0         1  \n",
            "1361                1014.55         6       2              7.0         1  \n",
            "6260                1022.51        11       0              8.5         1  \n",
            "10848                993.99        12       0              0.0         1  \n",
            "4014                 995.24         1       0              2.0         0  \n",
            "...                     ...       ...     ...              ...       ...  \n",
            "13123                999.67         1       0              2.5         0  \n",
            "3264                 989.56         1       0              4.5         0  \n",
            "9845                1011.78         6       1              6.0         2  \n",
            "10799                933.62         8       0              5.5         2  \n",
            "2732                 999.29         1       2              5.0         2  \n",
            "\n",
            "[9240 rows x 10 columns]\n"
          ]
        }
      ],
      "source": [
        "print(X_train)"
      ]
    },
    {
      "cell_type": "code",
      "execution_count": null,
      "metadata": {
        "colab": {
          "base_uri": "https://localhost:8080/"
        },
        "id": "_c8faqvKjEXf",
        "outputId": "dc5b6146-3b65-4049-8fa1-d03b20e0f214"
      },
      "outputs": [
        {
          "output_type": "stream",
          "name": "stdout",
          "text": [
            "[1 0 3 ... 3 2 1]\n"
          ]
        }
      ],
      "source": [
        "print(y_train)"
      ]
    },
    {
      "cell_type": "code",
      "execution_count": null,
      "metadata": {
        "colab": {
          "base_uri": "https://localhost:8080/"
        },
        "id": "QOsH9SiujGgw",
        "outputId": "94297aff-bbf3-4653-95ff-7e6ec8186dde"
      },
      "outputs": [
        {
          "output_type": "stream",
          "name": "stdout",
          "text": [
            "       Temperature  Humidity  Wind Speed  Precipitation (%)  Cloud Cover  \\\n",
            "3744          29.0        70        11.5               80.0            0   \n",
            "9459          -8.0        92         2.5               70.0            2   \n",
            "2875          12.0        71         4.0               13.0            0   \n",
            "3232          27.0        61         8.0               21.0            2   \n",
            "499            3.0        74        15.5               92.0            2   \n",
            "...            ...       ...         ...                ...          ...   \n",
            "7041           2.0        78        13.0               35.0            2   \n",
            "6667          42.0        24         3.0               12.0            0   \n",
            "11378        -12.0        97        29.5               71.0            2   \n",
            "7129          33.0        60         4.5               14.0            1   \n",
            "4484          21.0        85         8.0               87.0            2   \n",
            "\n",
            "       Atmospheric Pressure  UV Index  Season  Visibility (km)  Location  \n",
            "3744                1007.59         0       0              1.0         2  \n",
            "9459                 988.90         1       0              4.5         0  \n",
            "2875                1016.43         4       0              6.0         1  \n",
            "3232                1005.11         1       1              7.5         1  \n",
            "499                  981.70         1       0              1.5         1  \n",
            "...                     ...       ...     ...              ...       ...  \n",
            "7041                 811.67         0       3              8.5         0  \n",
            "6667                1023.94         6       2              6.5         1  \n",
            "11378                985.20        14       0              5.5         0  \n",
            "7129                1026.77         7       2              9.5         1  \n",
            "4484                 998.15         3       0              2.0         1  \n",
            "\n",
            "[3960 rows x 10 columns]\n"
          ]
        }
      ],
      "source": [
        "print(X_test)"
      ]
    },
    {
      "cell_type": "code",
      "execution_count": null,
      "metadata": {
        "colab": {
          "base_uri": "https://localhost:8080/"
        },
        "id": "-YawKdKTjIeo",
        "outputId": "e709efa4-b24a-4d52-f204-50e1f957ad41"
      },
      "outputs": [
        {
          "output_type": "stream",
          "name": "stdout",
          "text": [
            "[1 2 0 ... 2 3 1]\n"
          ]
        }
      ],
      "source": [
        "print(y_test)"
      ]
    },
    {
      "cell_type": "markdown",
      "metadata": {
        "id": "Hhkjt1c5kqP4"
      },
      "source": [
        "# **FEATURE SCALING**"
      ]
    },
    {
      "cell_type": "code",
      "execution_count": null,
      "metadata": {
        "id": "JLJ0GBDukti_"
      },
      "outputs": [],
      "source": [
        "from sklearn.preprocessing import StandardScaler\n",
        "\n",
        "sc = StandardScaler()\n",
        "\n",
        "# Get the column names for the selected indices\n",
        "selected_columns = X_train.columns[[0, 1, 2, 3, 5, 6, 8]].tolist()\n",
        "\n",
        "# Fit and transform using the column names\n",
        "X_train.loc[:, selected_columns] = sc.fit_transform(X_train.loc[:, selected_columns])\n",
        "X_test.loc[:, selected_columns] = sc.transform(X_test.loc[:, selected_columns])"
      ]
    },
    {
      "cell_type": "markdown",
      "metadata": {
        "id": "h5eZhPf1s0fD"
      },
      "source": [
        "# **Training Model**"
      ]
    },
    {
      "cell_type": "code",
      "execution_count": null,
      "metadata": {
        "colab": {
          "base_uri": "https://localhost:8080/"
        },
        "id": "Ilfud6wqs2YM",
        "outputId": "4e75268d-5054-4722-d481-bbc0afcff532"
      },
      "outputs": [
        {
          "output_type": "stream",
          "name": "stdout",
          "text": [
            "Akurasi masing-masing model:\n",
            "KNN: 90.18%\n",
            "SVM: 91.46%\n",
            "Kernel SVM: 91.46%\n",
            "Naive Bayes: 86.09%\n",
            "Decision Tree: 91.59%\n",
            "Random Forest: 92.17%\n",
            "\n",
            "Model dengan akurasi terbaik: Random Forest dengan akurasi 92.17%\n"
          ]
        }
      ],
      "source": [
        "from sklearn.model_selection import train_test_split\n",
        "from sklearn.neighbors import KNeighborsClassifier\n",
        "from sklearn.svm import SVC\n",
        "from sklearn.naive_bayes import GaussianNB\n",
        "from sklearn.tree import DecisionTreeClassifier\n",
        "from sklearn.ensemble import RandomForestClassifier\n",
        "from sklearn.metrics import accuracy_score\n",
        "\n",
        "# List of models\n",
        "models = {\n",
        "    'KNN': KNeighborsClassifier(),\n",
        "    'SVM': SVC(),\n",
        "    'Kernel SVM': SVC(kernel='rbf'),\n",
        "    'Naive Bayes': GaussianNB(),\n",
        "    'Decision Tree': DecisionTreeClassifier(),\n",
        "    'Random Forest': RandomForestClassifier()\n",
        "}\n",
        "\n",
        "# Train and evaluate each model\n",
        "accuracy_results = {}\n",
        "for name, model in models.items():\n",
        "    model.fit(X_train, y_train)\n",
        "    y_pred = model.predict(X_test)\n",
        "    accuracy = accuracy_score(y_test, y_pred)\n",
        "    accuracy_results[name] = accuracy\n",
        "\n",
        "# Find the best model based on accuracy\n",
        "best_model = max(accuracy_results, key=accuracy_results.get)\n",
        "\n",
        "# Print results\n",
        "print(\"Akurasi masing-masing model:\")\n",
        "for model, accuracy in accuracy_results.items():\n",
        "    print(f\"{model}: {accuracy * 100:.2f}%\")\n",
        "\n",
        "print(f\"\\nModel dengan akurasi terbaik: {best_model} dengan akurasi {accuracy_results[best_model] * 100:.2f}%\")\n"
      ]
    },
    {
      "cell_type": "code",
      "execution_count": null,
      "metadata": {
        "colab": {
          "base_uri": "https://localhost:8080/"
        },
        "id": "4O2NmIzGtJZM",
        "outputId": "beb88bc9-e542-420e-95ee-0f18fef98c76"
      },
      "outputs": [
        {
          "output_type": "stream",
          "name": "stdout",
          "text": [
            "[[1 1]\n",
            " [2 2]\n",
            " [0 0]\n",
            " ...\n",
            " [2 2]\n",
            " [3 3]\n",
            " [1 1]]\n"
          ]
        }
      ],
      "source": [
        "y_pred = models[best_model].predict(X_test)\n",
        "print(np.concatenate((y_pred.reshape(len(y_pred), 1), y_test.reshape(len(y_test), 1)), 1))\n",
        "# Reshape both y_pred and y_test to be column vectors and concatenate them side-by-side to see predictions and actual values together in one array."
      ]
    },
    {
      "cell_type": "code",
      "execution_count": null,
      "metadata": {
        "colab": {
          "base_uri": "https://localhost:8080/"
        },
        "id": "CCeZYc9RtD18",
        "outputId": "925c1fce-7bbf-4f6a-be93-2d1a0882f919"
      },
      "outputs": [
        {
          "output_type": "stream",
          "name": "stdout",
          "text": [
            "[[887  48  23  34]\n",
            " [ 38 926  18  17]\n",
            " [ 24  20 934  21]\n",
            " [ 26  23  18 903]]\n",
            "accuracy:  0.9217171717171717\n"
          ]
        }
      ],
      "source": [
        "from sklearn.metrics import confusion_matrix, ConfusionMatrixDisplay, accuracy_score\n",
        "cm = confusion_matrix(y_test, y_pred)\n",
        "print(cm)\n",
        "print(\"accuracy: \", accuracy_score(y_test, y_pred))"
      ]
    },
    {
      "cell_type": "code",
      "execution_count": null,
      "metadata": {
        "colab": {
          "base_uri": "https://localhost:8080/",
          "height": 466
        },
        "id": "QHpCVOO9wRCf",
        "outputId": "66395136-af51-4e84-f2cf-518da206f6f3"
      },
      "outputs": [
        {
          "output_type": "execute_result",
          "data": {
            "text/plain": [
              "<sklearn.metrics._plot.confusion_matrix.ConfusionMatrixDisplay at 0x7a1e68f4abc0>"
            ]
          },
          "metadata": {},
          "execution_count": 43
        },
        {
          "output_type": "display_data",
          "data": {
            "text/plain": [
              "<Figure size 640x480 with 2 Axes>"
            ],
            "image/png": "[encoded data removed]"
          },
          "metadata": {}
        }
      ],
      "source": [
        "# ConfusionMatrixDisplay(confusion_matrix=cm,display_labels=[auto]).plot()\n",
        "\n",
        "labels = np.unique(y_test)  # atau bisa menggunakan y_pred tergantung kebutuhan\n",
        "\n",
        "# Menampilkan confusion matrix\n",
        "# disp = ConfusionMatrixDisplay(confusion_matrix=cm, display_labels=labels)\n",
        "disp = ConfusionMatrixDisplay(confusion_matrix=cm, display_labels=(\"cloudy\", \"rainy\", \"snowy\", \"sunny\"))\n",
        "disp.plot()"
      ]
    },
    {
      "cell_type": "markdown",
      "metadata": {
        "id": "ufhQk51n2wgs"
      },
      "source": [
        "# **Predicting new result**"
      ]
    },
    {
      "cell_type": "code",
      "execution_count": null,
      "metadata": {
        "id": "zI8Z3xui_faF"
      },
      "outputs": [],
      "source": [
        "new_data = pd.DataFrame({\n",
        "    'Temperature': [38.0],\n",
        "    'Humidity': [83],\n",
        "    'Wind Speed': [1.5],\n",
        "    'Precipitation (%)': [82.0],\n",
        "    'Cloud Cover': [1],  # Categorical feature\n",
        "    'Atmospheric Pressure': [1026.25],\n",
        "    'UV Index': [7],\n",
        "    'Season': [1],  # Categorical feature\n",
        "    'Visibility (km)': [1.0],\n",
        "    'Location': [2]  # Categorical feature\n",
        "})"
      ]
    },
    {
      "cell_type": "code",
      "source": [
        "# 1. Apply the same transformations to new_data\n",
        "new_data_encoded = encoder.transform(new_data)  # Encode categorical variables\n",
        "new_data_encoded[selected_columns] = sc.transform(new_data_encoded[selected_columns])  # Standardize numerical columns\n",
        "\n",
        "# 2. Predict the result using the trained classifier\n",
        "new_prediction = models[best_model].predict(new_data_encoded)\n",
        "\n",
        "# 3. Decode the prediction to get the original class label (optional, if you want the original label)\n",
        "new_prediction_label = le.inverse_transform(new_prediction)\n",
        "\n",
        "print(f\"Cuaca yang di prediksi: {new_prediction_label[0]}\")\n"
      ],
      "metadata": {
        "colab": {
          "base_uri": "https://localhost:8080/"
        },
        "id": "lLUdH0ByA8qi",
        "outputId": "2dbfeabb-d832-4d02-c69e-59145932e042"
      },
      "execution_count": null,
      "outputs": [
        {
          "output_type": "stream",
          "name": "stdout",
          "text": [
            "Cuaca yang di prediksi: Sunny\n"
          ]
        },
        {
          "output_type": "stream",
          "name": "stderr",
          "text": [
            "/usr/local/lib/python3.10/dist-packages/feature_engine/encoding/base_encoder.py:260: UserWarning: During the encoding, NaN values were introduced in the feature(s) Cloud Cover, Season, Location.\n",
            "  warnings.warn(\n"
          ]
        }
      ]
    },
    {
      "cell_type": "markdown",
      "source": [
        "# **Giving Activity Recomendation**"
      ],
      "metadata": {
        "id": "kecGOQ4hQWx9"
      }
    },
    {
      "cell_type": "code",
      "source": [
        "# Defining lists for indoor and outdoor activities for different weather conditions\n",
        "\n",
        "rainy_indoor = [\n",
        "    \"Membaca buku atau novel favorit\",\n",
        "    \"Bermain board games atau kartu dengan teman/keluarga\",\n",
        "    \"Menonton film atau serial TV maraton\",\n",
        "    \"Memasak resep baru di dapur\",\n",
        "    \"Bermeditasi atau melakukan yoga untuk relaksasi\",\n",
        "    \"Menulis jurnal atau blog pribadi\",\n",
        "    \"Mengerjakan proyek seni seperti melukis atau membuat kerajinan tangan\",\n",
        "    \"Belajar keterampilan baru secara online (kursus, coding, bahasa)\",\n",
        "    \"Bermain video game\",\n",
        "    \"Mengatur ulang atau mendekorasi ulang ruang dalam rumah\"\n",
        "]\n",
        "\n",
        "rainy_outdoor = [\n",
        "    \"Berjalan-jalan dengan payung di sekitar lingkungan\",\n",
        "    \"Fotografi hujan atau lanskap yang basah\",\n",
        "    \"Berburu kafe yang nyaman untuk menikmati kopi\",\n",
        "    \"Menjelajahi taman kota dengan perlengkapan jas hujan\",\n",
        "    \"Mengunjungi museum atau galeri seni terdekat\",\n",
        "    \"Bersepeda di jalan setapak dengan perlengkapan hujan\",\n",
        "    \"Berjalan di hutan atau taman alami saat hujan gerimis\",\n",
        "    \"Mendaki bukit kecil dengan peralatan anti air\",\n",
        "    \"Mengikuti kelas dansa atau senam di tempat tertutup\",\n",
        "    \"Mengambil foto estetik tetesan hujan di jendela atau genangan air\"\n",
        "]\n",
        "\n",
        "cloudy_indoor = [\n",
        "    \"Membuat podcast atau merekam vlog\",\n",
        "    \"Merajut atau membuat kerajinan tangan DIY\",\n",
        "    \"Menyusun puzzle atau permainan strategi\",\n",
        "    \"Belajar alat musik baru atau berlatih memainkan alat musik yang sudah dikuasai\",\n",
        "    \"Menyusun daftar resolusi atau target pencapaian\",\n",
        "    \"Membuat scrapbooking dari foto-foto kenangan\",\n",
        "    \"Merawat tanaman dalam rumah atau membuat kebun mini\",\n",
        "    \"Mencoba meditasi mindfulness\",\n",
        "    \"Membuat daftar film klasik yang ingin ditonton\",\n",
        "    \"Memperbarui profil media sosial atau portofolio pribadi\"\n",
        "]\n",
        "\n",
        "cloudy_outdoor = [\n",
        "    \"Jalan-jalan santai di taman kota\",\n",
        "    \"Fotografi langit berawan atau lanskap\",\n",
        "    \"Jogging atau berlari di sekitar lingkungan\",\n",
        "    \"Bersepeda santai di area hijau atau kompleks\",\n",
        "    \"Bermain frisbee atau olahraga ringan dengan teman\",\n",
        "    \"Piknik di tempat yang nyaman\",\n",
        "    \"Membaca di bangku taman atau tempat outdoor\",\n",
        "    \"Bermain sepak bola atau bola basket di lapangan terbuka\",\n",
        "    \"Berburu lokasi street food yang lezat\",\n",
        "    \"Berjalan-jalan di area bersejarah atau arsitektur tua\"\n",
        "]\n",
        "\n",
        "sunny_indoor = [\n",
        "    \"Menonton video dokumenter yang menarik\",\n",
        "    \"Merawat tanaman hias dalam rumah\",\n",
        "    \"Bermain permainan virtual reality (VR)\",\n",
        "    \"Menata dan membersihkan rumah dengan lebih detail\",\n",
        "    \"Membuat konten video untuk media sosial\",\n",
        "    \"Memperbaiki atau memperbarui perabotan rumah tangga\",\n",
        "    \"Eksperimen membuat minuman segar seperti jus atau smoothies\",\n",
        "    \"Berlatih tari atau ikut kelas tari online\",\n",
        "    \"Menonton konser atau pertunjukan live streaming\",\n",
        "    \"Menyusun rencana liburan ke tempat yang ingin dikunjungi\"\n",
        "]\n",
        "\n",
        "sunny_outdoor = [\n",
        "    \"Hiking atau mendaki bukit/gunung\",\n",
        "    \"Bersepeda keliling kota atau jalur khusus\",\n",
        "    \"Piknik di taman dengan teman atau keluarga\",\n",
        "    \"Olahraga air seperti berenang di kolam renang terbuka\",\n",
        "    \"Bermain olahraga pantai seperti voli pantai atau frisbee\",\n",
        "    \"Berjemur di pantai atau taman terbuka\",\n",
        "    \"Fotografi alam atau potret outdoor\",\n",
        "    \"Mengunjungi kebun binatang atau taman margasatwa\",\n",
        "    \"Jalan-jalan santai sambil menikmati es krim atau kopi dingin\",\n",
        "    \"Mengikuti kelas yoga di taman atau tempat outdoor\"\n",
        "]\n",
        "\n",
        "snowy_indoor = [\n",
        "    \"Membuat kerajinan tangan Natal atau dekorasi musiman\",\n",
        "    \"Menonton film atau serial TV bertema musim dingin\",\n",
        "    \"Memasak makanan hangat seperti sup atau minuman coklat panas\",\n",
        "    \"Mengerjakan proyek knitting atau merajut syal\",\n",
        "    \"Menulis cerita pendek atau puisi\",\n",
        "    \"Mengorganisir dan membersihkan lemari pakaian\",\n",
        "    \"Membuat roti atau kue kering dengan resep baru\",\n",
        "    \"Mengikuti kelas olahraga ringan secara online seperti yoga atau pilates\",\n",
        "    \"Menonton video DIY untuk membuat dekorasi rumah musim dingin\",\n",
        "    \"Mengikuti kelas seni online seperti melukis atau menggambar\"\n",
        "]\n",
        "\n",
        "snowy_outdoor = [\n",
        "    \"Bermain ski atau snowboarding di lereng salju\",\n",
        "    \"Membuat manusia salju di halaman atau taman\",\n",
        "    \"Berjalan-jalan di hutan atau taman saat salju turun\",\n",
        "    \"Bermain lempar-lemparan bola salju dengan teman\",\n",
        "    \"Berburu pemandangan salju untuk fotografi alam\",\n",
        "    \"Menyelenggarakan piknik musim dingin dengan minuman hangat\",\n",
        "    \"Bersepatu es di atas danau atau arena es\",\n",
        "    \"Bersepeda dengan fat bike di jalur bersalju\",\n",
        "    \"Mendaki gunung atau bukit yang tertutup salju\",\n",
        "    \"Membuat igloo atau benteng salju dengan anak-anak atau teman\"\n",
        "]\n",
        "\n",
        "# Defining a dictionary to hold all the lists for easy access\n",
        "activity_recommendations = {\n",
        "    \"Rainy Indoor\": rainy_indoor,\n",
        "    \"Rainy Outdoor\": rainy_outdoor,\n",
        "    \"Cloudy Indoor\": cloudy_indoor,\n",
        "    \"Cloudy Outdoor\": cloudy_outdoor,\n",
        "    \"Sunny Indoor\": sunny_indoor,\n",
        "    \"Sunny Outdoor\": sunny_outdoor,\n",
        "    \"Snowy Indoor\": snowy_indoor,\n",
        "    \"Snowy Outdoor\": snowy_outdoor\n",
        "}"
      ],
      "metadata": {
        "id": "ac6qF59MQcYl"
      },
      "execution_count": null,
      "outputs": []
    },
    {
      "cell_type": "code",
      "source": [
        "import random\n",
        "\n",
        "def get_activity_recommendation(season, location):\n",
        "    key = f\"{season.capitalize()} {location.capitalize()}\" # menggabungkan season dan location untuk membuat key\n",
        "    if key in activity_recommendations: # mengambil daftar aktivitas yang sesuai dengan key\n",
        "        activities = activity_recommendations[key]\n",
        "        return random.choice(activities)         # memilih aktivitas secara acak dari daftar\n",
        "    else:\n",
        "        return \"Kategori tidak ditemukan. Pastikan memasukkan musim dan lokasi yang benar.\""
      ],
      "metadata": {
        "id": "WruZQ8ajRNQ-"
      },
      "execution_count": null,
      "outputs": []
    },
    {
      "cell_type": "code",
      "source": [
        "# Contoh prediksi\n",
        "season_input = new_prediction_label[0] # 0 untuk outdoor, 1 untuk indoor\n",
        "# location_input = input(\"Masukkan lokasi (indoor, outdoor): \").strip().lower()\n",
        "location_input = \"Outdoor\"\n",
        "\n",
        "# Panggil fungsi dan tampilkan hasil\n",
        "activity = get_activity_recommendation(season_input, location_input)\n",
        "print(f\"Cuaca: {season_input}\")\n",
        "print(f\"Lokasi: {location_input}\")\n",
        "print(f\"Rekomendasi aktivitas: {activity}\")"
      ],
      "metadata": {
        "colab": {
          "base_uri": "https://localhost:8080/"
        },
        "id": "ChipG1VjRRpm",
        "outputId": "c7f68722-7e18-4f97-e950-610dbcbb932e"
      },
      "execution_count": null,
      "outputs": [
        {
          "output_type": "stream",
          "name": "stdout",
          "text": [
            "Cuaca: Sunny\n",
            "Lokasi: Outdoor\n",
            "Rekomendasi aktivitas: Bermain olahraga pantai seperti voli pantai atau frisbee\n"
          ]
        }
      ]
    }
  ],
  "metadata": {
    "colab": {
      "provenance": []
    },
    "kernelspec": {
      "display_name": "Python 3",
      "name": "python3"
    },
    "language_info": {
      "name": "python"
    }
  },
  "nbformat": 4,
  "nbformat_minor": 0
}